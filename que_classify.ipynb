{
 "cells": [
  {
   "cell_type": "markdown",
   "metadata": {},
   "source": [
    "# Question Classification Using Machine Learning\n"
   ]
  },
  {
   "cell_type": "code",
   "execution_count": 54,
   "metadata": {},
   "outputs": [
    {
     "name": "stdout",
     "output_type": "stream",
     "text": [
      "Confidence:\n",
      "Train accuracy 100.0\n",
      "Test accuracy 100.0\n"
     ]
    },
    {
     "name": "stderr",
     "output_type": "stream",
     "text": [
      "C:\\Users\\Priyanka\\Anaconda3\\lib\\site-packages\\sklearn\\linear_model\\logistic.py:947: ConvergenceWarning: lbfgs failed to converge. Increase the number of iterations.\n",
      "  \"of iterations.\", ConvergenceWarning)\n"
     ]
    }
   ],
   "source": [
    "\n",
    "import nltk\n",
    "from nltk.corpus import stopwords\n",
    "from nltk.tokenize import word_tokenize\n",
    "from nltk.classify.scikitlearn import SklearnClassifier\n",
    "from nltk.stem import WordNetLemmatizer\n",
    "import random\n",
    "from sklearn import linear_model\n",
    "import gensim\n",
    "import operator\n",
    "import numpy as np\n",
    "\n",
    "def get_data(filename):\n",
    "\tfile = open(filename,'r')\n",
    "\n",
    "\tdata = []\n",
    "\tfor line in file:\n",
    "\t\tsentence,category=line.strip().split(' ,,, ')\n",
    "\t\tdata.append((sentence,category))\n",
    "\treturn data\n",
    "\n",
    "\n",
    "test_data = get_data(\"D:/priyanka/data.txt\")\n",
    "\n",
    "random.shuffle(test_data)\n",
    "# Remove stopwords and obtain features: \n",
    "stop_words=set(stopwords.words(\"english\"))\t\n",
    "w2v = gensim.models.KeyedVectors.load_word2vec_format(\"D:/priyanka/glove.txt\", binary=False)  \n",
    "\n",
    "def word_vectorization(wvec,question):\n",
    "\tgetvec = []\n",
    "\tfor each in question:\n",
    "\t\taddingup = [0] * 50\n",
    "\t\twords = word_tokenize(each)\n",
    "\t\tfor w in words:\n",
    "\t\t\tw = w.lower()\n",
    "\t\t\tif w not in stop_words:\n",
    "\t\t\t\ttry:\n",
    "\t\t\t\t\taddingup = map(operator.add, wvec[w], addingup)\n",
    "\t\t\t\texcept KeyError:\n",
    "\t\t\t\t\tcontinue\n",
    "\t\trow = [vec for vec in addingup]\n",
    "\t\trow = np.sum(row)\n",
    "\t\tif row:\n",
    "\t\t\tif getvec:\n",
    "\t\t\t\tnp.append(getvec,row)\n",
    "\t\t\telse:\n",
    "\t\t\t\tgetvec = row\n",
    "\treturn getvec\n",
    "\n",
    "data = [q[0] for q in test_data]\n",
    "\n",
    "X = [word_vectorization(w2v, [element[0]]) for element in test_data]\n",
    "\n",
    "\n",
    "def confidence(prediction,actuals):\n",
    "\tsuccess = [np.any(z[0] == z[1]) for z in zip(prediction, actuals)]\n",
    "\treturn (success.count(True)/len(success))*100\n",
    "\n",
    "Y = [cat[1] for cat in test_data]\n",
    "\n",
    "classifier = linear_model.LogisticRegression(multi_class='multinomial',solver='lbfgs')\n",
    "classifier.fit(np.array(X[:800]).reshape(-1, 1), np.array(Y[:800]))\n",
    "\n",
    "pred_train = [classifier.predict(np.array(X[:800]).reshape(-1, 1))]\n",
    "pred_test = [classifier.predict(np.array(X).reshape(-1, 1))]\n",
    "\n",
    "print (\"Confidence:\")\n",
    "print (\"Train accuracy \" + str(confidence(pred_train, Y[:800])))\n",
    "print (\"Test accuracy \" + str(confidence(pred_test, Y)))"
   ]
  },
  {
   "cell_type": "code",
   "execution_count": null,
   "metadata": {},
   "outputs": [],
   "source": []
  },
  {
   "cell_type": "code",
   "execution_count": null,
   "metadata": {},
   "outputs": [],
   "source": []
  },
  {
   "cell_type": "code",
   "execution_count": null,
   "metadata": {},
   "outputs": [],
   "source": []
  },
  {
   "cell_type": "code",
   "execution_count": null,
   "metadata": {},
   "outputs": [],
   "source": []
  },
  {
   "cell_type": "code",
   "execution_count": null,
   "metadata": {},
   "outputs": [],
   "source": []
  }
 ],
 "metadata": {
  "kernelspec": {
   "display_name": "Python 3",
   "language": "python",
   "name": "python3"
  },
  "language_info": {
   "codemirror_mode": {
    "name": "ipython",
    "version": 3
   },
   "file_extension": ".py",
   "mimetype": "text/x-python",
   "name": "python",
   "nbconvert_exporter": "python",
   "pygments_lexer": "ipython3",
   "version": "3.7.4"
  }
 },
 "nbformat": 4,
 "nbformat_minor": 2
}
